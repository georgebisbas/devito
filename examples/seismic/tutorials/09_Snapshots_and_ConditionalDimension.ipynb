{
 "cells": [
  {
   "cell_type": "markdown",
   "metadata": {},
   "source": [
    "# Snapshotting with Devito and the `ConditionalDimension` function\n",
    "\n",
    "This notebook intends to introduce new Devito users (especially with a C or FORTRAN background) to the best practice on saving snapshots to disk, as a binary float file. \n",
    "\n",
    "We start by presenting a naive approach, and then introduce a more efficient Devito-like method, explaining some of the involved functions (notably, `ConditionalDimension`).\n"
   ]
  },
  {
   "cell_type": "markdown",
   "metadata": {},
   "source": [
    "# Initialize utilities\n"
   ]
  },
  {
   "cell_type": "code",
   "execution_count": 1,
   "metadata": {},
   "outputs": [],
   "source": [
    "%reset -f\n",
    "import numpy as np\n",
    "import matplotlib.pyplot as plt \n",
    "%matplotlib inline\n",
    "#%load_ext pycodestyle_magic\n"
   ]
  },
  {
   "cell_type": "markdown",
   "metadata": {},
   "source": [
    "# Saving snaps to disk - naive approach\n",
    "The example is based on the codes from [the first TLE tutorial](https://github.com/opesci/devito/blob/master/examples/seismic/tutorials/01_modelling.ipynb) (Louboutin et. al., 2017), where one shot is modeled over a 2-layer velocity model. After the tutorial code we add the snapshotting part.\n",
    "\n",
    "Setting the velocity model, source and receivers:"
   ]
  },
  {
   "cell_type": "code",
   "execution_count": 2,
   "metadata": {
    "scrolled": true
   },
   "outputs": [
    {
     "data": {
      "image/png": "[encoded data removed]",
      "text/plain": [
       "<Figure size 576x432 with 2 Axes>"
      ]
     },
     "metadata": {
      "needs_background": "light"
     },
     "output_type": "display_data"
    }
   ],
   "source": [
    "#%%flake8\n",
    "from examples.seismic import Receiver\n",
    "from examples.seismic import RickerSource\n",
    "from examples.seismic import Model, plot_velocity, TimeAxis\n",
    "\n",
    "# Set velocity model\n",
    "nx = 301\n",
    "nz = 301\n",
    "nb = 10\n",
    "shape = (nx, nz)\n",
    "spacing = (20., 20.)\n",
    "origin = (0., 0.)\n",
    "v = np.empty(shape, dtype=np.float32)\n",
    "v[:, :201] = 5.5\n",
    "v[:, 201:] = 5.5\n",
    "\n",
    "v[40:60, 0:nz-50] = 0.0001\n",
    "v[nx-40:nx-20, 0:nz-50] = 0.0001\n",
    "v[nx-160:nx-140, 50:nz-1] = 0.0001\n",
    "#v[100:150, 50:nz-1] = 0.1\n",
    "\n",
    "\n",
    "model = Model(vp=v, origin=origin, shape=shape, spacing=spacing,\n",
    "              space_order=2, nbpml=10)\n",
    "\n",
    "# Set time range, source, source coordinates and receiver coordinates\n",
    "t0 = 0.  # Simulation starts a t=0\n",
    "tn = 10000.  # Simulation lasts 1 second (1000 ms)\n",
    "dt = model.critical_dt  # Time step from model grid spacing\n",
    "time_range = TimeAxis(start=t0, stop=tn, step=dt)\n",
    "nt = time_range.num  # number of time steps\n",
    "\n",
    "\n",
    "f0 = 0.010  # Source peak frequency is 10Hz (0.010 kHz)\n",
    "src = RickerSource(\n",
    "    name='src',\n",
    "    grid=model.grid,\n",
    "    f0=f0,\n",
    "    time_range=time_range)  # new: uses time_range, TimeAxis\n",
    "src.coordinates.data[0, :] = np.array(model.domain_size) * .05\n",
    "src.coordinates.data[0, -1] = 20.  # Depth is 20m\n",
    "\n",
    "\n",
    "rec = Receiver(\n",
    "    name='rec',\n",
    "    grid=model.grid,\n",
    "    npoint=101,\n",
    "    time_range=time_range)  # new\n",
    "rec.coordinates.data[:, 0] = np.linspace(0, model.domain_size[0], num=101)\n",
    "rec.coordinates.data[:, 1] = 20.  # Depth is 20m\n",
    "depth = rec.coordinates.data[:, 1]  # Depth is 20m\n",
    "\n",
    "\n",
    "plot_velocity(model, source=src.coordinates.data,\n",
    "              receiver=rec.coordinates.data[::4, :])\n",
    "\n",
    "vnx = nx+20\n",
    "vnz = nz+20\n"
   ]
  },
  {
   "cell_type": "markdown",
   "metadata": {},
   "source": [
    "Set symbolics for the wavefield object u, setting save on all time steps (which can occupy a lot of memory), to later collect snapshots (naive method):"
   ]
  },
  {
   "cell_type": "code",
   "execution_count": 3,
   "metadata": {},
   "outputs": [],
   "source": [
    "from devito import TimeFunction\n",
    "\n",
    "u = TimeFunction(name=\"u\", grid=model.grid, time_order=2,\n",
    "                 space_order=2, save=time_range.num)"
   ]
  },
  {
   "cell_type": "markdown",
   "metadata": {},
   "source": [
    "Set symbolics of the operator, source and receivers:"
   ]
  },
  {
   "cell_type": "code",
   "execution_count": 4,
   "metadata": {},
   "outputs": [],
   "source": [
    "from devito import Eq, solve\n",
    "from devito import Operator\n",
    "\n",
    "pde = model.m * u.dt2 - u.laplace + model.damp * u.dt\n",
    "stencil = Eq(u.forward, solve(pde, u.forward))\n",
    "src_term = src.inject(field=u.forward, expr=src * dt**2 / model.m,\n",
    "                      offset=model.nbpml)\n",
    "rec_term = rec.interpolate(expr=u, offset=model.nbpml)\n",
    "\n",
    "op = Operator([stencil] + src_term + rec_term, subs=model.spacing_map)\n"
   ]
  },
  {
   "cell_type": "markdown",
   "metadata": {},
   "source": [
    "Run the operator for `(nt-2)`(595) time steps:"
   ]
  },
  {
   "cell_type": "code",
   "execution_count": 5,
   "metadata": {},
   "outputs": [
    {
     "name": "stderr",
     "output_type": "stream",
     "text": [
      "Operator `Kernel` run in 1.19 s\n"
     ]
    }
   ],
   "source": [
    "op(time=nt-2, dt=model.critical_dt)"
   ]
  },
  {
   "cell_type": "markdown",
   "metadata": {},
   "source": [
    "Get equally spaced snaps from the 595 saved in `u.data`. The user can then define the total number of snaps `nsnaps`, which determines a `factor` to divide `nt`."
   ]
  },
  {
   "cell_type": "code",
   "execution_count": 6,
   "metadata": {},
   "outputs": [],
   "source": [
    "nsnaps = 100\n",
    "factor = round(u.shape[0] / nsnaps)  # Get approx nsnaps, for any nt\n",
    "ucopy = u.data.copy(order='C')\n",
    "filename = \"naivsnaps.bin\"\n",
    "file_u = open(filename, 'wb')\n",
    "for it in range(0, u.shape[0], factor):\n",
    "    file_u.write(ucopy[it, :, :])\n",
    "file_u.close()"
   ]
  },
  {
   "cell_type": "markdown",
   "metadata": {},
   "source": [
    "Checking `u.data` spaced by `factor` using matplotlib,"
   ]
  },
  {
   "cell_type": "code",
   "execution_count": 7,
   "metadata": {},
   "outputs": [],
   "source": [
    "plt.rcParams['figure.figsize'] = (20, 20)  # Increases figure size\n",
    "\n",
    "#for i in range(0, nsnaps):\n",
    " #   plt.subplot(1, nsnaps, i + 1)\n",
    "  #  plt.imshow(np.transpose(u.data[i * factor, :, :]))\n",
    "\n",
    "#plt.show()"
   ]
  },
  {
   "cell_type": "markdown",
   "metadata": {},
   "source": [
    "Or from the saved file:\n"
   ]
  },
  {
   "cell_type": "code",
   "execution_count": 8,
   "metadata": {},
   "outputs": [],
   "source": [
    "fobj = open(\"naivsnaps.bin\", \"rb\") \n",
    "snaps = np.fromfile(fobj, dtype = np.float32) \n",
    "snaps = np.reshape(snaps, (nsnaps, vnx, vnz)) #reshape vec2mtx, devito format. nx first\n",
    "fobj.close()\n",
    "\n",
    "plt.rcParams['figure.figsize'] = (20,20) #increases figure size\n",
    "\n",
    "#for i in range(0, nsnaps):\n",
    " #   plt.subplot(1,nsnaps,i+1); \n",
    "  #plt.imshow(np.transpose(snaps[i,:,:]))\n",
    "\n",
    "#plt.show() "
   ]
  },
  {
   "cell_type": "markdown",
   "metadata": {},
   "source": [
    "This C/FORTRAN way of saving snaps is clearly not optimal when using Devito; the wavefield object `u` is specified to save all snaps, and a memory copy is done at every `op` time step. Giving that we don't want all the snaps saved, this process is a little bit wasteful; only the selected snapshots should be copied during execution. \n",
    "\n",
    "\n",
    "To address these issues, a better way to save snaps using Devito's capabilities is presented in the following section."
   ]
  },
  {
   "cell_type": "markdown",
   "metadata": {},
   "source": [
    "# Saving snaps to disk - Devito method\n",
    "\n",
    "A better way to save snapshots to disk is to create a new wavefield object `usave`, whose time size is equal to \n",
    "`nsnaps`. There are 3 main differences from the previous code, which are flagged by `#Part 1`, `#Part 2` and `#Part 3` . After running the code each part is explained with more detail."
   ]
  },
  {
   "cell_type": "code",
   "execution_count": 9,
   "metadata": {},
   "outputs": [
    {
     "name": "stdout",
     "output_type": "stream",
     "text": [
      "factor is 66\n",
      "t_sub\n"
     ]
    },
    {
     "name": "stderr",
     "output_type": "stream",
     "text": [
      "Operator `Kernel` run in 0.80 s\n",
      "Operator `Kernel` run in 0.81 s\n"
     ]
    },
    {
     "name": "stdout",
     "output_type": "stream",
     "text": [
      "Saving snaps file\n",
      "Dimensions: nz = 321, nx = 321\n"
     ]
    }
   ],
   "source": [
    "from devito import ConditionalDimension\n",
    "\n",
    "nsnaps = 100               # desired number of equally spaced snaps\n",
    "factor = round(nt / nsnaps)  # subsequent calculated factor\n",
    "\n",
    "print(f\"factor is {factor}\")\n",
    "\n",
    "#Part 1 #############\n",
    "time_subsampled = ConditionalDimension(\n",
    "    't_sub', parent=model.grid.time_dim, factor=factor)\n",
    "usave = TimeFunction(name='usave', grid=model.grid, time_order=2, space_order=2,\n",
    "                     save=(nt + factor - 1) // factor, time_dim=time_subsampled)\n",
    "print(time_subsampled)\n",
    "#####################\n",
    "\n",
    "u = TimeFunction(name=\"u\", grid=model.grid, time_order=2, space_order=2)\n",
    "pde = model.m * u.dt2 - u.laplace + model.damp * u.dt\n",
    "stencil = Eq(u.forward, solve(pde, u.forward))\n",
    "src_term = src.inject(\n",
    "    field=u.forward,\n",
    "    expr=src * dt**2 / model.m,\n",
    "    offset=model.nbpml)\n",
    "rec_term = rec.interpolate(expr=u, offset=model.nbpml)\n",
    "\n",
    "#Part 2 #############\n",
    "op1 = Operator([stencil] + src_term + rec_term,\n",
    "               subs=model.spacing_map)  # usual operator\n",
    "op2 = Operator([stencil] + src_term + [Eq(usave, u)] + rec_term,\n",
    "               subs=model.spacing_map)  # operator with snapshots\n",
    "\n",
    "op1(time=nt - 2, dt=model.critical_dt)  # run only for comparison\n",
    "op2(time=nt - 2, dt=model.critical_dt)\n",
    "#####################\n",
    "\n",
    "#Part 3 #############\n",
    "print(\"Saving snaps file\")\n",
    "print(\"Dimensions: nz = {:d}, nx = {:d}\".format(nz + 2 * nb, nx + 2 * nb))\n",
    "filename = \"snaps2.bin\"\n",
    "usave.data.tofile(filename)\n",
    "#####################"
   ]
  },
  {
   "cell_type": "markdown",
   "metadata": {},
   "source": [
    "As `usave.data` have the desired snaps, no extra variable copy is required. The snaps can then be visualized:"
   ]
  },
  {
   "cell_type": "code",
   "execution_count": 10,
   "metadata": {},
   "outputs": [],
   "source": [
    "fobj = open(\"snaps2.bin\", \"rb\")\n",
    "snaps = np.fromfile(fobj, dtype=np.float32)\n",
    "snaps = np.reshape(snaps, (nsnaps, vnx, vnz))\n",
    "fobj.close()\n",
    "\n",
    "plt.rcParams['figure.figsize'] = (20, 20)  # increases figure size\n",
    "\n",
    "#for i in range(0, nsnaps):\n",
    " #   plt.subplot(1, nsnaps, i + 1)\n",
    "  #  plt.imshow(np.transpose(snaps[i, :, :]))\n",
    "\n",
    "#plt.show()"
   ]
  },
  {
   "cell_type": "markdown",
   "metadata": {},
   "source": [
    "## About Part 1\n",
    "\n",
    "Here a subsampled version (`time_subsampled`) of the full time dimension (`model.grid.time_dim`) is created with the `ConditionalDimension` function. `time_subsampled` is then used to define an additional symbolic wavefield `usave`, which will store in `usave.data` only the predefined number of snapshots (see Part 2).\n",
    "\n",
    "Further insight on how `ConditionalDimension` works and its most common uses can be found on Devito's documentation, at https://github.com/opesci/devito/blob/master/devito/types/dimension.py. The following excerpt exemplifies subsampling of simple functions:\n",
    "\n",
    "    Among the other things, ConditionalDimensions are indicated to implement\n",
    "    Function subsampling. In the following example, an Operator evaluates the\n",
    "    Function ``g`` and saves its content into ``f`` every ``factor=4`` iterations.\n",
    "    \n",
    "    >>> from devito import Dimension, ConditionalDimension, Function, Eq, Operator\n",
    "    >>> size, factor = 16, 4\n",
    "    >>> i = Dimension(name='i')\n",
    "    >>> ci = ConditionalDimension(name='ci', parent=i, factor=factor)\n",
    "    >>> g = Function(name='g', shape=(size,), dimensions=(i,))\n",
    "    >>> f = Function(name='f', shape=(size/factor,), dimensions=(ci,))\n",
    "    >>> op = Operator([Eq(g, 1), Eq(f, g)])\n",
    "    \n",
    "    The Operator generates the following for-loop (pseudocode)\n",
    "    .. code-block:: C\n",
    "        for (int i = i_m; i <= i_M; i += 1) {\n",
    "          g[i] = 1;\n",
    "          if (i%4 == 0) {\n",
    "            f[i / 4] = g[i];\n",
    "          }\n",
    "        }\n",
    "\n",
    "From this excerpt we can see that the C code generated by `Operator` with the extra argument `Eq(f,g)` mainly corresponds to adding an `if` block on the optimized C-code, which saves the desired snapshots on `f`, from `g`, at the correct times. Following the same line of thought, in the following section the symbolic and C-generated code are compared, with and without snapshots.\n",
    "\n",
    "# About Part 2\n",
    "        \n",
    "We then define operators `op1` (no snaps) and `op2` (with snaps). The only difference between the two is that `op2` has an extra symbolic equation `Eq(usave, u)` summed to it. Notice that even though `usave` and `u` have different dimensions, Devito's symbolic interpreter understands it, because `usave`'s `time_dim` was defined through the `ConditionalDimension` function. \n",
    "\n",
    "As in the excerpt above, the main difference between the optimized C-code of `op1` and `op2` is the addition of an `if` block, inside `section0` (wave propagation). For `op1`'s C code (interpolation sections commented):"
   ]
  },
  {
   "cell_type": "markdown",
   "metadata": {},
   "source": [
    "```c\n",
    "#define _POSIX_C_SOURCE 200809L\n",
    "#include \"stdlib.h\"\n",
    "#include \"math.h\"\n",
    "#include \"sys/time.h\"\n",
    "#include \"xmmintrin.h\"\n",
    "#include \"pmmintrin.h\"\n",
    "\n",
    "struct dataobj\n",
    "{\n",
    "  void *restrict data;\n",
    "  int * size;\n",
    "  int * npsize;\n",
    "  int * dsize;\n",
    "  int * hsize;\n",
    "  int * hofs;\n",
    "  int * oofs;\n",
    "} ;\n",
    "\n",
    "struct profiler\n",
    "{\n",
    "  double section0;\n",
    "  double section1;\n",
    "  double section2;\n",
    "} ;\n",
    "\n",
    "\n",
    "int Kernel(struct dataobj *restrict damp_vec, const float dt, struct dataobj *restrict m_vec, const float o_x, const float o_y, struct dataobj *restrict rec_vec, struct dataobj *restrict rec_coords_vec, struct dataobj *restrict src_vec, struct dataobj *restrict src_coords_vec, struct dataobj *restrict u_vec, const int x_M, const int x_m, const int y_M, const int y_m, const int p_rec_M, const int p_rec_m, const int p_src_M, const int p_src_m, const int time_M, const int time_m, struct profiler * timers)\n",
    "{\n",
    "  float (*restrict damp)[damp_vec->size[1]] __attribute__ ((aligned (64))) = (float (*)[damp_vec->size[1]]) damp_vec->data;\n",
    "  float (*restrict m)[m_vec->size[1]] __attribute__ ((aligned (64))) = (float (*)[m_vec->size[1]]) m_vec->data;\n",
    "  float (*restrict rec)[rec_vec->size[1]] __attribute__ ((aligned (64))) = (float (*)[rec_vec->size[1]]) rec_vec->data;\n",
    "  float (*restrict rec_coords)[rec_coords_vec->size[1]] __attribute__ ((aligned (64))) = (float (*)[rec_coords_vec->size[1]]) rec_coords_vec->data;\n",
    "  float (*restrict src)[src_vec->size[1]] __attribute__ ((aligned (64))) = (float (*)[src_vec->size[1]]) src_vec->data;\n",
    "  float (*restrict src_coords)[src_coords_vec->size[1]] __attribute__ ((aligned (64))) = (float (*)[src_coords_vec->size[1]]) src_coords_vec->data;\n",
    "  float (*restrict u)[u_vec->size[1]][u_vec->size[2]] __attribute__ ((aligned (64))) = (float (*)[u_vec->size[1]][u_vec->size[2]]) u_vec->data;\n",
    "  /* Flush denormal numbers to zero in hardware */\n",
    "  _MM_SET_DENORMALS_ZERO_MODE(_MM_DENORMALS_ZERO_ON);\n",
    "  _MM_SET_FLUSH_ZERO_MODE(_MM_FLUSH_ZERO_ON);\n",
    "  for (int time = time_m, t0 = (time)%(3), t1 = (time + 1)%(3), t2 = (time + 2)%(3); time <= time_M; time += 1, t0 = (time)%(3), t1 = (time + 1)%(3), t2 = (time + 2)%(3))\n",
    "  {\n",
    "    struct timeval start_section0, end_section0;\n",
    "    gettimeofday(&start_section0, NULL);\n",
    "    for (int x = x_m; x <= x_M; x += 1)\n",
    "    {\n",
    "      #pragma omp simd\n",
    "      for (int y = y_m; y <= y_M; y += 1)\n",
    "      {\n",
    "        float r0 = 1.0e+4F*dt*m[x + 2][y + 2] + 5.0e+3F*(dt*dt)*damp[x + 1][y + 1];\n",
    "        u[t1][x + 2][y + 2] = 2.0e+4F*dt*m[x + 2][y + 2]*u[t0][x + 2][y + 2]/r0 - 1.0e+4F*dt*m[x + 2][y + 2]*u[t2][x + 2][y + 2]/r0 + 1.0e+2F*((dt*dt*dt)*u[t0][x + 1][y + 2]/r0 + (dt*dt*dt)*u[t0][x + 2][y + 1]/r0 + (dt*dt*dt)*u[t0][x + 2][y + 3]/r0 + (dt*dt*dt)*u[t0][x + 3][y + 2]/r0) + 5.0e+3F*(dt*dt)*damp[x + 1][y + 1]*u[t2][x + 2][y + 2]/r0 - 4.0e+2F*dt*dt*dt*u[t0][x + 2][y + 2]/r0;\n",
    "      }\n",
    "    }\n",
    "    gettimeofday(&end_section0, NULL);\n",
    "    timers->section0 += (double)(end_section0.tv_sec-start_section0.tv_sec)+(double)(end_section0.tv_usec-start_section0.tv_usec)/1000000;\n",
    "    struct timeval start_section1, end_section1;\n",
    "    gettimeofday(&start_section1, NULL);\n",
    "    for (int p_src = p_src_m; p_src <= p_src_M; p_src += 1)\n",
    "    {\n",
    "        //source interpolation\n",
    "        //...\n",
    "    }\n",
    "    gettimeofday(&end_section1, NULL);\n",
    "    timers->section1 += (double)(end_section1.tv_sec-start_section1.tv_sec)+(double)(end_section1.tv_usec-start_section1.tv_usec)/1000000;\n",
    "    struct timeval start_section2, end_section2;\n",
    "    gettimeofday(&start_section2, NULL);\n",
    "    for (int p_rec = p_rec_m; p_rec <= p_rec_M; p_rec += 1)\n",
    "    {\n",
    "         //receivers interpolation\n",
    "         //...\n",
    "    }\n",
    "    gettimeofday(&end_section2, NULL);\n",
    "    timers->section2 += (double)(end_section2.tv_sec-start_section2.tv_sec)+(double)(end_section2.tv_usec-start_section2.tv_usec)/1000000;\n",
    "  }\n",
    "  return 0;\n",
    "}\n",
    "```"
   ]
  },
  {
   "cell_type": "markdown",
   "metadata": {},
   "source": [
    "`op2`'s C code (interpolation sections commented); differences are highlighted by `//<<<<<<<<<<<<<<<<<<<<`:"
   ]
  },
  {
   "cell_type": "markdown",
   "metadata": {},
   "source": [
    "```c\n",
    "#define _POSIX_C_SOURCE 200809L\n",
    "#include \"stdlib.h\"\n",
    "#include \"math.h\"\n",
    "#include \"sys/time.h\"\n",
    "#include \"xmmintrin.h\"\n",
    "#include \"pmmintrin.h\"\n",
    "\n",
    "struct dataobj\n",
    "{\n",
    "  void *restrict data;\n",
    "  int * size;\n",
    "  int * npsize;\n",
    "  int * dsize;\n",
    "  int * hsize;\n",
    "  int * hofs;\n",
    "  int * oofs;\n",
    "} ;\n",
    "\n",
    "struct profiler\n",
    "{\n",
    "  double section0;\n",
    "  double section1;\n",
    "  double section2;\n",
    "  double section3;\n",
    "} ;\n",
    "\n",
    "\n",
    "int Kernel(struct dataobj *restrict damp_vec, const float dt, struct dataobj *restrict m_vec, const float o_x, const float o_y, struct dataobj *restrict rec_vec, struct dataobj *restrict rec_coords_vec, struct dataobj *restrict src_vec, struct dataobj *restrict src_coords_vec, struct dataobj *restrict u_vec, struct dataobj *restrict usave_vec, const int x_M, const int x_m, const int y_M, const int y_m, const int p_rec_M, const int p_rec_m, const int p_src_M, const int p_src_m, const int time_M, const int time_m, struct profiler * timers)\n",
    "{\n",
    "  float (*restrict damp)[damp_vec->size[1]] __attribute__ ((aligned (64))) = (float (*)[damp_vec->size[1]]) damp_vec->data;\n",
    "  float (*restrict m)[m_vec->size[1]] __attribute__ ((aligned (64))) = (float (*)[m_vec->size[1]]) m_vec->data;\n",
    "  float (*restrict rec)[rec_vec->size[1]] __attribute__ ((aligned (64))) = (float (*)[rec_vec->size[1]]) rec_vec->data;\n",
    "  float (*restrict rec_coords)[rec_coords_vec->size[1]] __attribute__ ((aligned (64))) = (float (*)[rec_coords_vec->size[1]]) rec_coords_vec->data;\n",
    "  float (*restrict src)[src_vec->size[1]] __attribute__ ((aligned (64))) = (float (*)[src_vec->size[1]]) src_vec->data;\n",
    "  float (*restrict src_coords)[src_coords_vec->size[1]] __attribute__ ((aligned (64))) = (float (*)[src_coords_vec->size[1]]) src_coords_vec->data;\n",
    "  float (*restrict u)[u_vec->size[1]][u_vec->size[2]] __attribute__ ((aligned (64))) = (float (*)[u_vec->size[1]][u_vec->size[2]]) u_vec->data;\n",
    "//<<<<<<<<<<<<<<<<<<<<<<<<<<<<<<<<<<<<<<<<<<<<<<DECLARE USAVE<<<<<<<<<<<<<<<<<<<<<    \n",
    "  float (*restrict usave)[usave_vec->size[1]][usave_vec->size[2]] __attribute__ ((aligned (64))) = (float (*)[usave_vec->size[1]][usave_vec->size[2]]) usave_vec->data;\n",
    "//<<<<<<<<<<<<<<<<<<<<<<<<<<<<<<<<<<<<<<<<<<<<<<<<<<<<<<<<<<<<<<<<<<<<<<<<<<<<<<<<    \n",
    "  /* Flush denormal numbers to zero in hardware */\n",
    "  _MM_SET_DENORMALS_ZERO_MODE(_MM_DENORMALS_ZERO_ON);\n",
    "  _MM_SET_FLUSH_ZERO_MODE(_MM_FLUSH_ZERO_ON);\n",
    "  for (int time = time_m, t0 = (time)%(3), t1 = (time + 1)%(3), t2 = (time + 2)%(3); time <= time_M; time += 1, t0 = (time)%(3), t1 = (time + 1)%(3), t2 = (time + 2)%(3))\n",
    "  {\n",
    "    struct timeval start_section0, end_section0;\n",
    "    gettimeofday(&start_section0, NULL);\n",
    "    for (int x = x_m; x <= x_M; x += 1)\n",
    "    {\n",
    "      #pragma omp simd\n",
    "      for (int y = y_m; y <= y_M; y += 1)\n",
    "      {\n",
    "        float r0 = 1.0e+4F*dt*m[x + 2][y + 2] + 5.0e+3F*(dt*dt)*damp[x + 1][y + 1];\n",
    "        u[t1][x + 2][y + 2] = 2.0e+4F*dt*m[x + 2][y + 2]*u[t0][x + 2][y + 2]/r0 - 1.0e+4F*dt*m[x + 2][y + 2]*u[t2][x + 2][y + 2]/r0 + 1.0e+2F*((dt*dt*dt)*u[t0][x + 1][y + 2]/r0 + (dt*dt*dt)*u[t0][x + 2][y + 1]/r0 + (dt*dt*dt)*u[t0][x + 2][y + 3]/r0 + (dt*dt*dt)*u[t0][x + 3][y + 2]/r0) + 5.0e+3F*(dt*dt)*damp[x + 1][y + 1]*u[t2][x + 2][y + 2]/r0 - 4.0e+2F*dt*dt*dt*u[t0][x + 2][y + 2]/r0;\n",
    "      }\n",
    "    }\n",
    "    gettimeofday(&end_section0, NULL);\n",
    "    timers->section0 += (double)(end_section0.tv_sec-start_section0.tv_sec)+(double)(end_section0.tv_usec-start_section0.tv_usec)/1000000;\n",
    "//<<<<<<<<<<<<<<<<<<<<<<<<<<<<<<<<<<<<<<<<<<<<<<SAVE SNAPSHOT<<<<<<<<<<<<<<<<<<<<<\n",
    "    if ((time)%(60) == 0)\n",
    "    {\n",
    "      struct timeval start_section1, end_section1;\n",
    "      gettimeofday(&start_section1, NULL);\n",
    "      for (int x = x_m; x <= x_M; x += 1)\n",
    "      {\n",
    "        #pragma omp simd\n",
    "        for (int y = y_m; y <= y_M; y += 1)\n",
    "        {\n",
    "          usave[time / 60][x + 2][y + 2] = u[t0][x + 2][y + 2];\n",
    "        }\n",
    "      }\n",
    "//<<<<<<<<<<<<<<<<<<<<<<<<<<<<<<<<<<<<<<<<<<<<<<<<<<<<<<<<<<<<<<<<<<<<<<<<<<<<<<<<\n",
    "      gettimeofday(&end_section1, NULL);\n",
    "      timers->section1 += (double)(end_section1.tv_sec-start_section1.tv_sec)+(double)(end_section1.tv_usec-start_section1.tv_usec)/1000000;\n",
    "    }\n",
    "    struct timeval start_section2, end_section2;\n",
    "    gettimeofday(&start_section2, NULL);\n",
    "    for (int p_src = p_src_m; p_src <= p_src_M; p_src += 1)\n",
    "    {\n",
    "        //source interpolation\n",
    "        //...\n",
    "    }\n",
    "    gettimeofday(&end_section2, NULL);\n",
    "    timers->section2 += (double)(end_section2.tv_sec-start_section2.tv_sec)+(double)(end_section2.tv_usec-start_section2.tv_usec)/1000000;\n",
    "    struct timeval start_section3, end_section3;\n",
    "    gettimeofday(&start_section3, NULL);\n",
    "    for (int p_rec = p_rec_m; p_rec <= p_rec_M; p_rec += 1)\n",
    "    {\n",
    "        //receivers interpolation\n",
    "        //...\n",
    "    }\n",
    "    gettimeofday(&end_section3, NULL);\n",
    "    timers->section3 += (double)(end_section3.tv_sec-start_section3.tv_sec)+(double)(end_section3.tv_usec-start_section3.tv_usec)/1000000;\n",
    "  }\n",
    "  return 0;\n",
    "}\n",
    "\n",
    "```"
   ]
  },
  {
   "cell_type": "markdown",
   "metadata": {},
   "source": [
    "To inspect the full codes of `op1` and `op2`, run the block below:"
   ]
  },
  {
   "cell_type": "code",
   "execution_count": 11,
   "metadata": {},
   "outputs": [],
   "source": [
    "def print2file(filename, thingToPrint):\n",
    "    import sys\n",
    "\n",
    "    orig_stdout = sys.stdout\n",
    "\n",
    "    f = open(filename, 'w')\n",
    "    sys.stdout = f\n",
    "    print(thingToPrint)\n",
    "    f.close()\n",
    "\n",
    "    sys.stdout = orig_stdout\n",
    "\n",
    "\n",
    "print2file(\"op1.c\", op1)  # uncomment to print to file\n",
    "print2file(\"op2.c\", op2)  # uncomment to print to file\n",
    "# print(op1) # uncomment to print here\n",
    "# print(op2) # uncomment to print here"
   ]
  },
  {
   "cell_type": "markdown",
   "metadata": {},
   "source": [
    "To run snaps as a movie (outside Jupyter Notebook), run the code below, altering `filename, nsnaps, nx, nz` accordingly:"
   ]
  },
  {
   "cell_type": "code",
   "execution_count": 12,
   "metadata": {},
   "outputs": [
    {
     "data": {
      "image/png": "[encoded data removed]",
      "text/plain": [
       "<Figure size 1440x1440 with 2 Axes>"
      ]
     },
     "metadata": {
      "needs_background": "light"
     },
     "output_type": "display_data"
    }
   ],
   "source": [
    "def animateSnaps2d(nsnaps, snapsObj):\n",
    "    import matplotlib.pyplot as plt\n",
    "    import matplotlib.animation as animation\n",
    "    from matplotlib import animation, rc\n",
    "    # Set up formatting for the movie files\n",
    "    Writer = animation.writers['ffmpeg']\n",
    "    writer = Writer(fps=10, metadata=dict(artist='Me'), bitrate=7200)\n",
    "\n",
    "    from IPython.display import HTML\n",
    "\n",
    "    base_matrix = np.transpose(snapsObj[0, :, :])\n",
    "\n",
    "    def update(i):\n",
    "        base_matrix = np.transpose(snapsObj[i, :, :])\n",
    "        matrice.set_array(base_matrix)\n",
    "\n",
    "    fig, ax = plt.subplots()\n",
    "    matrice = ax.matshow(base_matrix)\n",
    "    plt.colorbar(matrice)\n",
    "\n",
    "    ani = animation.FuncAnimation(fig, update, frames=nsnaps, interval=500)\n",
    "    plt.show()\n",
    "    HTML(ani.to_html5_video())\n",
    "    ani._repr_html_() is None\n",
    "    #ani\n",
    "    # equivalent to rcParams['animation.html'] = 'html5'\n",
    "    rc('animation', html='html5')\n",
    "    ani\n",
    "    ani.save('lines.mp4', writer=writer)\n",
    "\n",
    "filename = \"naivsnaps.bin\"\n",
    "nsnaps = 100\n",
    "fobj = open(filename, \"rb\")\n",
    "snapsObj = np.fromfile(fobj, dtype=np.float32)\n",
    "snapsObj = np.reshape(snapsObj, (nsnaps, vnx, vnz))\n",
    "fobj.close()\n",
    "\n",
    "#from IPython.display import HTML\n",
    "\n",
    "anim = animateSnaps2d(nsnaps, snapsObj)\n",
    "\n"
   ]
  },
  {
   "cell_type": "markdown",
   "metadata": {},
   "source": [
    "# References\n",
    "\n",
    "Louboutin, M., Witte, P., Lange, M., Kukreja, N., Luporini, F., Gorman, G., & Herrmann, F. J. (2017). Full-waveform inversion, Part 1: Forward modeling. The Leading Edge, 36(12), 1033-1036."
   ]
  },
  {
   "cell_type": "code",
   "execution_count": null,
   "metadata": {},
   "outputs": [],
   "source": []
  }
 ],
 "metadata": {
  "kernelspec": {
   "display_name": "Python 3",
   "language": "python",
   "name": "python3"
  },
  "language_info": {
   "codemirror_mode": {
    "name": "ipython",
    "version": 3
   },
   "file_extension": ".py",
   "mimetype": "text/x-python",
   "name": "python",
   "nbconvert_exporter": "python",
   "pygments_lexer": "ipython3",
   "version": "3.6.6"
  },
  "varInspector": {
   "cols": {
    "lenName": 16,
    "lenType": 16,
    "lenVar": 40
   },
   "kernels_config": {
    "python": {
     "delete_cmd_postfix": "",
     "delete_cmd_prefix": "del ",
     "library": "var_list.py",
     "varRefreshCmd": "print(var_dic_list())"
    },
    "r": {
     "delete_cmd_postfix": ") ",
     "delete_cmd_prefix": "rm(",
     "library": "var_list.r",
     "varRefreshCmd": "cat(var_dic_list()) "
    }
   },
   "types_to_exclude": [
    "module",
    "function",
    "builtin_function_or_method",
    "instance",
    "_Feature"
   ],
   "window_display": false
  }
 },
 "nbformat": 4,
 "nbformat_minor": 2
}
