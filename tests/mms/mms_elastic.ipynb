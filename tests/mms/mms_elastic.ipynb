{
 "cells": [
  {
   "cell_type": "markdown",
   "metadata": {
    "collapsed": true
   },
   "source": [
    "# Verification of Elastic wave equation implementation on a staggered grid using the method of manufactured solutions.\n",
    "This is a first attempt at implemenenting the elastic wave equation as described in:\n",
    "\n",
    "[1] Jean Virieux (1986). ”P-SV wave propagation in heterogeneous media: Velocity‐stress finite‐difference method.” GEOPHYSICS, 51(4), 889-901. https://doi.org/10.1190/1.1442147\n",
    "\n",
    "The current version actually attempts to mirror the FDELMODC implementation by Jan Thorbecke:\n",
    "\n",
    "[2] https://janth.home.xs4all.nl/Software/fdelmodcManual.pdf\n",
    "\n",
    "## Explosive source\n",
    "\n",
    "We will first attempt to replicate the explosive source test case described in [1], Figure 4. We start by defining the source signature $g(t)$, the derivative of a Gaussian pulse, given by Eq 4:\n",
    "\n",
    "$$g(t) = -2 \\alpha(t - t_0)e^{-\\alpha(t-t_0)^2}$$"
   ]
  },
  {
   "cell_type": "code",
   "execution_count": 3,
   "metadata": {},
   "outputs": [],
   "source": [
    "from devito import *\n",
    "from examples.seismic.source import WaveletSource, RickerSource, TimeAxis\n",
    "from examples.seismic import plot_image\n",
    "import numpy as np\n",
    "\n",
    "from sympy import init_printing, latex\n",
    "init_printing(use_latex=True)"
   ]
  },
  {
   "cell_type": "code",
   "execution_count": 4,
   "metadata": {},
   "outputs": [],
   "source": [
    "# Initial grid: 1km x 1km, with spacing 100m\n",
    "extent = (2000., 2000.)\n",
    "shape = (201, 201)\n",
    "x = SpaceDimension(name='x', spacing=Constant(name='h_x', value=extent[0]/(shape[0]-1)))\n",
    "z = SpaceDimension(name='z', spacing=Constant(name='h_z', value=extent[1]/(shape[1]-1)))\n",
    "grid = Grid(extent=extent, shape=shape, dimensions=(x, z))"
   ]
  },
  {
   "cell_type": "code",
   "execution_count": 5,
   "metadata": {},
   "outputs": [
    {
     "data": {
      "image/png": "[encoded data removed]",
      "text/plain": [
       "<Figure size 432x288 with 1 Axes>"
      ]
     },
     "metadata": {
      "needs_background": "light"
     },
     "output_type": "display_data"
    }
   ],
   "source": [
    "class DGaussSource(WaveletSource):\n",
    "    \n",
    "    def wavelet(self, f0, t):\n",
    "        a = 0.004\n",
    "        return -2.*a*(t - 1/f0) * np.exp(-a * (t - 1/f0)**2)\n",
    "\n",
    "# Timestep size from Eq. 7 with V_p=6000. and dx=100\n",
    "t0, tn = 0., 600.\n",
    "dt = (10. / np.sqrt(2.)) / 6.\n",
    "time_range = TimeAxis(start=t0, stop=tn, step=dt)\n",
    "\n",
    "src = RickerSource(name='src', grid=grid, f0=0.01, time_range=time_range)\n",
    "src.coordinates.data[:] = [1000., 1000.]\n",
    "src.show()"
   ]
  },
  {
   "cell_type": "code",
   "execution_count": 6,
   "metadata": {},
   "outputs": [],
   "source": [
    "# Now we create the velocity and pressure fields\n",
    "so = 2 # space order\n",
    "vx  = TimeFunction(name='vx' , grid=grid, staggered = x,    space_order=so)\n",
    "vz  = TimeFunction(name='vz' , grid=grid, staggered = z,    space_order=so)\n",
    "txx = TimeFunction(name='txx', grid=grid, staggered = NODE, space_order=so)\n",
    "tzz = TimeFunction(name='tzz', grid=grid, staggered = NODE, space_order=so)\n",
    "txz = TimeFunction(name='txz', grid=grid, staggered=(x, z), space_order=so)"
   ]
  },
  {
   "cell_type": "code",
   "execution_count": 7,
   "metadata": {},
   "outputs": [],
   "source": [
    "# Now let's try and create the staggered updates\n",
    "t = grid.stepping_dim\n",
    "time = grid.time_dim\n",
    "\n",
    "# We need some initial conditions\n",
    "V_p = 4.0\n",
    "V_s = 1.0\n",
    "density = 3.\n",
    "\n",
    "# The source injection term\n",
    "src_xx = src.inject(field=txx.forward, expr=src)\n",
    "src_zz = src.inject(field=tzz.forward, expr=src)\n",
    "\n",
    "#c1 = 9.0/8.0;\n",
    "#c2 = -1.0/24.0;\n",
    "\n",
    "# Thorbecke's parameter notation\n",
    "cp2 = V_p*V_p\n",
    "cs2 = V_s*V_s\n",
    "ro = 1/density\n",
    "\n",
    "mu = cs2*ro\n",
    "l = (cp2*ro - 2*mu)\n",
    "\n",
    "# fdelmodc reference implementation\n",
    "u_vx = Eq(vx.forward, vx - dt*ro*(txx.dx + txz.dz))\n",
    "\n",
    "u_vz = Eq(vz.forward, vz - ro*dt*(txz.dx + tzz.dz))\n",
    "\n",
    "u_txx = Eq(txx.forward, txx - (l+2*mu)*dt * vx.forward.dx -  l*dt * vz.forward.dz)\n",
    "u_tzz = Eq(tzz.forward, tzz - (l+2*mu)*dt * vz.forward.dz -  l*dt * vx.forward.dx)\n",
    "\n",
    "u_txz = Eq(txz.forward, txz - mu*dt * (vx.forward.dz + vz.forward.dx))"
   ]
  },
  {
   "cell_type": "code",
   "execution_count": null,
   "metadata": {},
   "outputs": [],
   "source": [
    "op = Operator([u_vx, u_vz, u_txx, u_tzz, u_txz] + src_xx + src_zz)\n"
   ]
  },
  {
   "cell_type": "code",
   "execution_count": null,
   "metadata": {},
   "outputs": [],
   "source": [
    "# Reset the fields\n",
    "vx.data[:] = 0.\n",
    "vz.data[:] = 0.\n",
    "txx.data[:] = 0.\n",
    "tzz.data[:] = 0.\n",
    "txz.data[:] = 0.\n",
    "\n",
    "op()"
   ]
  },
  {
   "cell_type": "code",
   "execution_count": null,
   "metadata": {},
   "outputs": [],
   "source": [
    "# Let's see what we got....\n",
    "plot_image(vx.data[0], vmin=-.5*1e-2, vmax=.5*1e-2, cmap=\"seismic\")\n",
    "plot_image(vz.data[0], vmin=-.5*1e-2, vmax=.5*1e-2, cmap=\"seismic\")\n",
    "plot_image(txx.data[0], vmin=-.5*1e-2, vmax=.5*1e-2, cmap=\"seismic\")\n",
    "plot_image(tzz.data[0], vmin=-.5*1e-2, vmax=.5*1e-2, cmap=\"seismic\")\n",
    "plot_image(txz.data[0], vmin=-.5*1e-2, vmax=.5*1e-2, cmap=\"seismic\")"
   ]
  },
  {
   "cell_type": "code",
   "execution_count": null,
   "metadata": {},
   "outputs": [],
   "source": [
    "# Now that looks pretty! But let's do it again with a higher space order...\n",
    "so = 12\n",
    "vx= TimeFunction(name='vx', grid=grid, staggered=x, space_order=so)\n",
    "vz = TimeFunction(name='vz', grid=grid, staggered=z, space_order=so)\n",
    "txx = TimeFunction(name='txx', grid=grid, staggered=NODE, space_order=so)\n",
    "tzz = TimeFunction(name='tzz', grid=grid, staggered=NODE, space_order=so)\n",
    "txz = TimeFunction(name='txz', grid=grid, staggered=(x, z), space_order=so)\n",
    "\n",
    "# fdelmodc reference implementation\n",
    "u_vx = Eq(vx.forward, vx - dt*ro*(txx.dx + txz.dz))\n",
    "\n",
    "u_vz = Eq(vz.forward, vz - ro*dt*(txz.dx + tzz.dz))\n",
    "\n",
    "u_txx = Eq(txx.forward, txx - (l+2*mu)*dt * vx.forward.dx -  l*dt * vz.forward.dz)\n",
    "u_tzz = Eq(tzz.forward, tzz - (l+2*mu)*dt * vz.forward.dz -  l*dt * vx.forward.dx)\n",
    "\n",
    "u_txz = Eq(txz.forward, txz - mu*dt * (vx.forward.dz + vz.forward.dx))\n",
    "\n",
    "op = Operator([u_vx, u_vz, u_txx, u_tzz, u_txz] + src_xx + src_zz)\n",
    "\n",
    "# Reset the fields\n",
    "vx.data[:] = 0.\n",
    "vz.data[:] = 0.\n",
    "txx.data[:] = 0.\n",
    "tzz.data[:] = 0.\n",
    "txz.data[:] = 0.\n",
    "\n",
    "op()\n",
    "\n",
    "vmin= -.5*1e-2\n",
    "vmax=  .5*1e-2\n",
    "\n",
    "plot_image(vx.data[0] , vmin = vmin, vmax = vmax, cmap=\"seismic\")\n",
    "plot_image(vz.data[0] , vmin = vmin, vmax = vmax, cmap=\"seismic\")\n",
    "plot_image(txx.data[0], vmin = vmin, vmax = vmax, cmap=\"seismic\")\n",
    "plot_image(tzz.data[0], vmin = vmin, vmax = vmax, cmap=\"seismic\")\n",
    "plot_image(txz.data[0], vmin = vmin, vmax = vmax, cmap=\"seismic\")"
   ]
  },
  {
   "cell_type": "code",
   "execution_count": null,
   "metadata": {},
   "outputs": [],
   "source": []
  }
 ],
 "metadata": {
  "kernelspec": {
   "display_name": "Python 3",
   "language": "python",
   "name": "python3"
  },
  "language_info": {
   "codemirror_mode": {
    "name": "ipython",
    "version": 3
   },
   "file_extension": ".py",
   "mimetype": "text/x-python",
   "name": "python",
   "nbconvert_exporter": "python",
   "pygments_lexer": "ipython3",
   "version": "3.6.6"
  },
  "varInspector": {
   "cols": {
    "lenName": 16,
    "lenType": 16,
    "lenVar": 40
   },
   "kernels_config": {
    "python": {
     "delete_cmd_postfix": "",
     "delete_cmd_prefix": "del ",
     "library": "var_list.py",
     "varRefreshCmd": "print(var_dic_list())"
    },
    "r": {
     "delete_cmd_postfix": ") ",
     "delete_cmd_prefix": "rm(",
     "library": "var_list.r",
     "varRefreshCmd": "cat(var_dic_list()) "
    }
   },
   "types_to_exclude": [
    "module",
    "function",
    "builtin_function_or_method",
    "instance",
    "_Feature"
   ],
   "window_display": false
  },
  "widgets": {
   "state": {},
   "version": "1.1.2"
  }
 },
 "nbformat": 4,
 "nbformat_minor": 1
}
