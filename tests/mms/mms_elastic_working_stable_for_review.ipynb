{
 "cells": [
  {
   "cell_type": "markdown",
   "metadata": {
    "collapsed": true
   },
   "source": [
    "# Verification of Elastic wave equation implementation on a staggered grid using the method of manufactured solutions.\n",
    "This is a first attempt at implemenenting the elastic wave equation as described in:\n",
    "\n",
    "[1] Jean Virieux (1986). ”P-SV wave propagation in heterogeneous media: Velocity‐stress finite‐difference method.” GEOPHYSICS, 51(4), 889-901. https://doi.org/10.1190/1.1442147\n",
    "\n",
    "The current version actually attempts to mirror the FDELMODC implementation by Jan Thorbecke:\n",
    "\n",
    "[2] https://janth.home.xs4all.nl/Software/fdelmodcManual.pdf\n",
    "\n",
    "## Explosive source\n",
    "\n",
    "We will first attempt to replicate the explosive source test case described in [1], Figure 4. We start by defining the source signature $g(t)$, the derivative of a Gaussian pulse, given by Eq 4:\n",
    "\n",
    "$$g(t) = -2 \\alpha(t - t_0)e^{-\\alpha(t-t_0)^2}$$"
   ]
  },
  {
   "cell_type": "code",
   "execution_count": 1,
   "metadata": {},
   "outputs": [],
   "source": [
    "from devito import *\n",
    "from examples.seismic.source import WaveletSource, RickerSource, TimeAxis\n",
    "from examples.seismic import plot_image\n",
    "import numpy as np\n",
    "\n",
    "from sympy import init_printing, latex\n",
    "init_printing(use_latex=True)"
   ]
  },
  {
   "cell_type": "code",
   "execution_count": 2,
   "metadata": {},
   "outputs": [],
   "source": [
    "# Initial grid: 1km x 1km, with spacing 100m\n",
    "extent = (2000., 2000.)\n",
    "shape = (201, 201)\n",
    "x = SpaceDimension(name='x', spacing=Constant(name='h_x', value=extent[0]/(shape[0]-1)))\n",
    "z = SpaceDimension(name='z', spacing=Constant(name='h_z', value=extent[1]/(shape[1]-1)))\n",
    "grid = Grid(extent=extent, shape=shape, dimensions=(x, z))"
   ]
  },
  {
   "cell_type": "code",
   "execution_count": 3,
   "metadata": {},
   "outputs": [
    {
     "data": {
      "image/png": "[encoded data removed]",
      "text/plain": [
       "<Figure size 432x288 with 1 Axes>"
      ]
     },
     "metadata": {
      "needs_background": "light"
     },
     "output_type": "display_data"
    }
   ],
   "source": [
    "class DGaussSource(WaveletSource):\n",
    "    \n",
    "    def wavelet(self, f0, t):\n",
    "        a = 0.004\n",
    "        return -2.*a*(t - 1/f0) * np.exp(-a * (t - 1/f0)**2)\n",
    "\n",
    "# Timestep size from Eq. 7 with V_p=6000. and dx=100\n",
    "t0, tn = 0., 600.\n",
    "dt = (10. / np.sqrt(2.)) / 6.\n",
    "time_range = TimeAxis(start=t0, stop=tn, step=dt)\n",
    "\n",
    "src = RickerSource(name='src', grid=grid, f0=0.01, time_range=time_range)\n",
    "src.coordinates.data[:] = [1000., 1000.]\n",
    "src.show()"
   ]
  },
  {
   "cell_type": "code",
   "execution_count": 4,
   "metadata": {},
   "outputs": [],
   "source": [
    "#from examples.seismic import Model\n",
    "# Model with fixed time step value\n",
    "#class ModelBench(Model):\n",
    "#    \"\"\"\n",
    "#    Physical model used for accuracy benchmarking.\n",
    "#    The critical dt is made small enough to ignore\n",
    "#    time discretization errors\n",
    "#    \"\"\"\n",
    "#\n",
    "#    @property\n",
    "#    def critical_dt(self):\n",
    "#        \"\"\"Critical computational time step value.\"\"\"\n",
    "#        return .1*self.spacing[0]"
   ]
  },
  {
   "cell_type": "code",
   "execution_count": 5,
   "metadata": {},
   "outputs": [],
   "source": [
    "# Now we create the velocity and pressure fields\n",
    "\n",
    "\n",
    "#model = ModelBench(vp=1.5, origin=(0., 0.), spacing=(.5, .5), shape=(801, 801), nbpml=40, space_order=0, dtype=np.float64)\n",
    "\n",
    "so = 2 # space order\n",
    "vx  = TimeFunction(name='vx' , grid=grid, staggered = x,    space_order=so)\n",
    "vz  = TimeFunction(name='vz' , grid=grid, staggered = z,    space_order=so)\n",
    "txx = TimeFunction(name='txx', grid=grid, staggered = NODE, space_order=so)\n",
    "tzz = TimeFunction(name='tzz', grid=grid, staggered = NODE, space_order=so)\n",
    "txz = TimeFunction(name='txz', grid=grid, staggered=(x, z), space_order=so)"
   ]
  },
  {
   "cell_type": "code",
   "execution_count": 6,
   "metadata": {},
   "outputs": [
    {
     "name": "stdout",
     "output_type": "stream",
     "text": [
      "x z time\n"
     ]
    }
   ],
   "source": [
    "# Now let's try and create the staggered updates\n",
    "t = grid.stepping_dim\n",
    "time = grid.time_dim\n",
    "\n",
    "# We need some initial conditions\n",
    "V_p = 4.0\n",
    "V_s = 1.0\n",
    "density = 3.\n",
    "\n",
    "# The source injection term\n",
    "src_xx = src.inject(field=txx.forward, expr=src)\n",
    "src_zz = src.inject(field=tzz.forward, expr=src)\n",
    "\n",
    "#c1 = 9.0/8.0;\n",
    "#c2 = -1.0/24.0;\n",
    "\n",
    "# Thorbecke's parameter notation\n",
    "cp2 = V_p*V_p\n",
    "cs2 = V_s*V_s\n",
    "ro = 1/density\n",
    "\n",
    "mu = cs2*ro\n",
    "l = (cp2*ro - 2*mu)\n",
    "\n",
    "print(x,z,time)\n"
   ]
  },
  {
   "cell_type": "markdown",
   "metadata": {},
   "source": [
    "# Analytical solution definition"
   ]
  },
  {
   "cell_type": "code",
   "execution_count": 7,
   "metadata": {},
   "outputs": [],
   "source": [
    "# fdelmodc reference implementation\n",
    "u_vx = Eq(vx.forward, vx - dt*ro*(txx.dx + txz.dz))\n",
    "u_vz = Eq(vz.forward, vz - ro*dt*(txz.dx + tzz.dz))\n",
    "u_txx = Eq(txx.forward, txx - (l+2*mu)*dt * vx.forward.dx -  l*dt * vz.forward.dz)\n",
    "u_tzz = Eq(tzz.forward, tzz - (l+2*mu)*dt * vz.forward.dz -  l*dt * vx.forward.dx)\n",
    "u_txz = Eq(txz.forward, txz - mu*dt * (vx.forward.dz + vz.forward.dx))\n",
    "\n",
    "#op = Operator([u_vx, u_vz, u_txx, u_tzz, u_txz] + src_xx + src_zz)\n",
    "\n",
    "# Reset the fields\n",
    "vx.data[:] = 0.\n",
    "vz.data[:] = 0.\n",
    "txx.data[:] = 0.\n",
    "tzz.data[:] = 0.\n",
    "txz.data[:] = 0.\n",
    "\n",
    "#op()\n",
    "\n"
   ]
  },
  {
   "cell_type": "code",
   "execution_count": 8,
   "metadata": {},
   "outputs": [],
   "source": [
    "# Let's see what we got....\n",
    "#plot_image(vx.data[0], vmin=-.5*1e-2, vmax=.5*1e-2, cmap=\"seismic\")\n",
    "#plot_image(vz.data[0], vmin=-.5*1e-2, vmax=.5*1e-2, cmap=\"seismic\")\n",
    "#plot_image(txx.data[0], vmin=-.5*1e-2, vmax=.5*1e-2, cmap=\"seismic\")\n",
    "#plot_image(tzz.data[0], vmin=-.5*1e-2, vmax=.5*1e-2, cmap=\"seismic\")\n",
    "#plot_image(txz.data[0], vmin=-.5*1e-2, vmax=.5*1e-2, cmap=\"seismic\")"
   ]
  },
  {
   "cell_type": "code",
   "execution_count": 9,
   "metadata": {},
   "outputs": [
    {
     "name": "stderr",
     "output_type": "stream",
     "text": [
      "Operator `Kernel` run in 1.08 s\n"
     ]
    },
    {
     "data": {
      "image/png": "[encoded data removed]",
      "text/plain": [
       "<Figure size 432x288 with 2 Axes>"
      ]
     },
     "metadata": {
      "needs_background": "light"
     },
     "output_type": "display_data"
    }
   ],
   "source": [
    "# Now that looks pretty! But let's do it again with a higher space order...\n",
    "so  = 12\n",
    "vx  = TimeFunction(name='vx' , grid=grid, staggered=x     , space_order=so, time_order=2)\n",
    "vz  = TimeFunction(name='vz' , grid=grid, staggered=z     , space_order=so, time_order=2)\n",
    "txx = TimeFunction(name='txx', grid=grid, staggered=NODE  , space_order=so, time_order=2)\n",
    "tzz = TimeFunction(name='tzz', grid=grid, staggered=NODE  , space_order=so, time_order=2)\n",
    "txz = TimeFunction(name='txz', grid=grid, staggered=(x, z), space_order=so, time_order=2)\n",
    "\n",
    "# fdelmodc reference implementation\n",
    "u_vx = Eq(vx.forward, vx - dt*ro*(txx.dx + txz.dz))\n",
    "u_vz = Eq(vz.forward, vz - ro*dt*(txz.dx + tzz.dz))\n",
    "u_txx = Eq(txx.forward, txx - (l+2*mu)*dt * vx.forward.dx -  l*dt * vz.forward.dz)\n",
    "u_tzz = Eq(tzz.forward, tzz - (l+2*mu)*dt * vz.forward.dz -  l*dt * vx.forward.dx)\n",
    "u_txz = Eq(txz.forward, txz - mu*dt * (vx.forward.dz + vz.forward.dx))\n",
    "\n",
    "op = Operator([u_vx, u_vz, u_txx, u_tzz, u_txz] + src_xx + src_zz)\n",
    "\n",
    "# Reset the fields\n",
    "vx.data[:] = 0.\n",
    "vz.data[:] = 0.\n",
    "txx.data[:] = 0.\n",
    "tzz.data[:] = 0.\n",
    "txz.data[:] = 0.\n",
    "\n",
    "op()\n",
    "\n",
    "vmin= -.5*1e-2\n",
    "vmax=  .5*1e-2\n",
    "\n",
    "#plot_image(vx.data[0] , vmin = vmin, vmax = vmax, cmap=\"seismic\")\n",
    "#plot_image(vz.data[0] , vmin = vmin, vmax = vmax, cmap=\"seismic\")\n",
    "#plot_image(txx.data[0], vmin = vmin, vmax = vmax, cmap=\"seismic\")\n",
    "#plot_image(tzz.data[0], vmin = vmin, vmax = vmax, cmap=\"seismic\")\n",
    "plot_image(txz.data[0], vmin = vmin, vmax = vmax, cmap=\"seismic\")"
   ]
  },
  {
   "cell_type": "markdown",
   "metadata": {},
   "source": [
    "# Corresponding source"
   ]
  },
  {
   "cell_type": "code",
   "execution_count": 10,
   "metadata": {},
   "outputs": [
    {
     "name": "stdout",
     "output_type": "stream",
     "text": [
      "sin(6.28318530717959*x*h_x)*sin(12.5663706143592*z*h_z)*sin(6.28318530717959*time*dt)\n"
     ]
    }
   ],
   "source": [
    "import sympy\n",
    "from sympy import cos, sin, exp, pprint, sqrt, sin, sinc\n",
    "u, v, w, c = sympy.symbols('u v w c')\n",
    "sol = sin(2*np.pi*u) * sin(4*np.pi*v)* sin(2*np.pi*w)\n",
    "#sol = sin(2*np.pi*u) * sin(4*np.pi*v)* sin(2*np.pi*w)\n",
    "#sol = sin(2*np.pi*u) * sin(4*np.pi*v)* sin(2*np.pi*w)\n",
    "#sol = sin(2*np.pi*u) * sin(4*np.pi*v)* sin(2*np.pi*w)\n",
    "#sol = sin(2*np.pi*u) * sin(4*np.pi*v)* sin(2*np.pi*w)\n",
    "\n",
    "source =  sol.diff(w, w) - sol.diff(u, u) - sol.diff(v, v)\n",
    "sol = sol.subs({u: x*x.spacing, v: z*z.spacing, w: time*time.spacing})\n",
    "source = source.subs({u: x*x.spacing, v: z*z.spacing, w: time*time.spacing})\n",
    "\n",
    "print(sol)"
   ]
  },
  {
   "cell_type": "markdown",
   "metadata": {},
   "source": [
    "# Elastic wave equation"
   ]
  },
  {
   "cell_type": "code",
   "execution_count": 11,
   "metadata": {},
   "outputs": [
    {
     "name": "stdout",
     "output_type": "stream",
     "text": [
      "vx_ana(t, x, z)\n",
      "u_vx_true(t, x, z)\n"
     ]
    }
   ],
   "source": [
    "\n",
    "so = 2\n",
    "vx_ana  = TimeFunction(name='vx_ana',  grid=grid, staggered=x,      space_order=so, time_order=2)\n",
    "vz_ana  = TimeFunction(name='vz_ana',  grid=grid, staggered=z,      space_order=so, time_order=2)\n",
    "txx_ana = TimeFunction(name='txx_ana', grid=grid, staggered=NODE,   space_order=so, time_order=2)\n",
    "tzz_ana = TimeFunction(name='tzz_ana', grid=grid, staggered=NODE,   space_order=so, time_order=2)\n",
    "txz_ana = TimeFunction(name='txz_ana', grid=grid, staggered=(x, z), space_order=so, time_order=2)\n",
    "    \n",
    "# Wave equation\n",
    "u_vx_true  = TimeFunction(name='u_vx_true' , grid=grid, staggered=x,      space_order=so, time_order=2)\n",
    "u_vz_true  = TimeFunction(name='u_vz_true' , grid=grid, staggered=z,      space_order=so, time_order=2)\n",
    "u_txx_true = TimeFunction(name='u_txx_true', grid=grid, staggered=NODE,   space_order=so, time_order=2)\n",
    "u_tzz_true = TimeFunction(name='u_tzz_true', grid=grid, staggered=NODE,   space_order=so, time_order=2)\n",
    "u_txz_true = TimeFunction(name='u_txz_true', grid=grid, staggered=(x, z), space_order=so, time_order=2)\n",
    "    \n",
    "#vx_src  = TimeFunction(name=\"vx_src\" , grid=grid, staggered=x,     space_order=so, time_order=2)\n",
    "#vz_src  = TimeFunction(name='vz_src' , grid=grid, staggered=z,      space_order=so, time_order=2)\n",
    "#txx_src = TimeFunction(name='txx_src', grid=grid, staggered=NODE,   space_order=so, time_order=2)\n",
    "#tzz_src = TimeFunction(name='tzz_src', grid=grid, staggered=NODE,   space_order=so, time_order=2)\n",
    "#txz_src = TimeFunction(name='txz_src', grid=grid, staggered=(x, z), space_order=so, time_order=2)\n",
    "    \n",
    "#wave_eq = Eq(vx.forward, 2 * vx - vx.backward + t.spacing**2/1 * (vx.laplace + src))\n",
    "    \n",
    "print(vx_ana)\n",
    "print(u_vx_true)\n",
    "#print(vx_src)\n",
    "    \n",
    "    \n",
    "    "
   ]
  },
  {
   "cell_type": "code",
   "execution_count": 12,
   "metadata": {},
   "outputs": [
    {
     "name": "stdout",
     "output_type": "stream",
     "text": [
      "0.333333333333333*txz_ana(t, x, z)/h_z - 0.333333333333333*txz_ana(t, x, z + h_z)/h_z - 0.333333333333333*txx_ana(t, x, z)/h_x + 0.333333333333333*txx_ana(t, x - h_x, z)/h_x + vx_ana(t, x, z)/dt - vx_ana(t - dt, x, z)/dt\n",
      "Eq(vx(t + dt, x, z), vx(t, x, z) + 0.479786236456494*txz(t, x, z)/h_z - 8.58263096987177e-6*txz(t, x, z - 5*h_z)/h_z + 0.00014103063974801*txz(t, x, z - 4*h_z)/h_z - 0.00116566141016759*txz(t, x, z - 3*h_z)/h_z + 0.00685408909252146*txz(t, x, z - 2*h_z)/h_z - 0.0380782727346424*txz(t, x, z - h_z)/h_z - 0.479786236456494*txz(t, x, z + h_z)/h_z + 0.0380782727346424*txz(t, x, z + 2*h_z)/h_z - 0.00685408909252146*txz(t, x, z + 3*h_z)/h_z + 0.00116566141016759*txz(t, x, z + 4*h_z)/h_z - 0.00014103063974801*txz(t, x, z + 5*h_z)/h_z + 8.58263096987177e-6*txz(t, x, z + 6*h_z)/h_z - 0.130945700219731*txz_ana(t, x, z)/h_z + 0.130945700219731*txz_ana(t, x, z + h_z)/h_z - 0.479786236456494*txx(t, x, z)/h_x - 8.58263096987177e-6*txx(t, x - 6*h_x, z)/h_x + 0.00014103063974801*txx(t, x - 5*h_x, z)/h_x - 0.00116566141016759*txx(t, x - 4*h_x, z)/h_x + 0.00685408909252146*txx(t, x - 3*h_x, z)/h_x - 0.0380782727346424*txx(t, x - 2*h_x, z)/h_x + 0.479786236456494*txx(t, x - h_x, z)/h_x + 0.0380782727346424*txx(t, x + h_x, z)/h_x - 0.00685408909252146*txx(t, x + 2*h_x, z)/h_x + 0.00116566141016759*txx(t, x + 3*h_x, z)/h_x - 0.00014103063974801*txx(t, x + 4*h_x, z)/h_x + 8.58263096987177e-6*txx(t, x + 5*h_x, z)/h_x + 0.130945700219731*txx_ana(t, x, z)/h_x - 0.130945700219731*txx_ana(t, x - h_x, z)/h_x - 0.392837100659193*vx_ana(t, x, z)/dt + 0.392837100659193*vx_ana(t - dt, x, z)/dt)\n"
     ]
    }
   ],
   "source": [
    "# Adding analytical source\n",
    "# fdelmodc reference implementation\n",
    "src_vx  = vx_ana.dt - ro * txx_ana.dx - ro * txz_ana.dz\n",
    "src_vz  = vz_ana.dt - ro * txz_ana.dx + ro * tzz_ana.dz\n",
    "src_txx = txx_ana.dt - (l+2*mu) * vx_ana.forward.dx -  l* vz_ana.forward.dz\n",
    "src_tzz = tzz_ana.dt - (l+2*mu) * vz_ana.forward.dz -  l* vx_ana.forward.dx\n",
    "src_txz = txz_ana - mu*(vx_ana.forward.dz + vz_ana.forward.dx)\n",
    "\n",
    "wave_u_vx  = Eq(vx.forward,  vx - dt*ro*(txx.dx + txz.dz+src_vx))\n",
    "wave_u_vz  = Eq(vz.forward,  vz - dt*ro*(txz.dx + tzz.dz+src_vz))\n",
    "wave_u_txx = Eq(txx.forward, txx - (l+2*mu)*dt * vx.forward.dx -  l*dt * vz.forward.dz + src_txx)\n",
    "wave_u_tzz = Eq(tzz.forward, tzz - (l+2*mu)*dt * vz.forward.dz -  l*dt * vx.forward.dx+src_tzz)\n",
    "wave_u_txz = Eq(txz.forward, txz - mu*dt * (vx.forward.dz + vz.forward.dx)+src_txz)\n",
    "    \n",
    "# +src?\n",
    "print(src_vx)\n",
    "print(wave_u_vx)"
   ]
  },
  {
   "cell_type": "code",
   "execution_count": 13,
   "metadata": {},
   "outputs": [
    {
     "name": "stdout",
     "output_type": "stream",
     "text": [
      "Eq(u_vx_true(t, x, z), sin(6.28318530717959*x*h_x)*sin(12.5663706143592*z*h_z)*sin(6.28318530717959*time*dt))\n"
     ]
    }
   ],
   "source": [
    "true_eqq_vx  = Eq(u_vx_true, sol)\n",
    "true_eqq_vz  = Eq(u_vz_true, sol)\n",
    "true_eqq_txx = Eq(u_txx_true, sol)\n",
    "true_eqq_txz = Eq(u_txz_true, sol)\n",
    "true_eqq_tzz = Eq(u_tzz_true, sol)\n",
    "print(true_eqq_vx)"
   ]
  },
  {
   "cell_type": "code",
   "execution_count": 14,
   "metadata": {},
   "outputs": [],
   "source": [
    "#src_eq_vx  = Eq(vx_ana.forward, vx_ana.dt-  ro * txx_ana.dx -ro * txz_ana.dz) \n",
    "#src_eq_vz  = Eq(vz_ana.forward, vz_ana.dt - ro * (txz_ana.dx + tzz_ana.dz))\n",
    "#src_eq_txx = Eq(txx_ana.forward, txx_ana.dt - (l+2*mu)*dt * vx_ana.forward.dx -  l*dt * vz_ana.forward.dz)\n",
    "#src_eq_txz = Eq(txz_ana.forward, tzz_ana - (l+2*mu)*dt * vz_ana.forward.dz -  l*dt * vx_ana.forward.dx)\n",
    "#src_eq_tzz = Eq(tzz_ana.forward, tzz_ana - mu*dt * (vx_ana.forward.dz + vz_ana.forward.dx))\n",
    "#wave_u_txz = Eq(txz.forward, txz_ana - mu*dt * (vx_ana.forward.dz + vz_ana.forward.dx))\n",
    "\n",
    "#print(src_eq_vx)"
   ]
  },
  {
   "cell_type": "code",
   "execution_count": 15,
   "metadata": {},
   "outputs": [
    {
     "name": "stdout",
     "output_type": "stream",
     "text": [
      "vx_ana(t, x, z)\n",
      "Eq(vx_ana(t, x, z), sin(6.28318530717959*dt)*sin(6.28318530717959*x*h_x)*sin(12.5663706143592*z*h_z))\n"
     ]
    }
   ],
   "source": [
    "# inital conditions, t=1\n",
    "print(vx_ana)\n",
    "u_1 = Eq(vx_ana.subs(time, 1), sol.subs(time, 1))\n",
    "#u_1 = Eq(vx_ana.subs(time, 1))\n",
    "\n",
    "print(u_1)"
   ]
  },
  {
   "cell_type": "code",
   "execution_count": 16,
   "metadata": {},
   "outputs": [
    {
     "data": {
      "text/plain": [
       "PerformanceSummary([('section0',\n",
       "  PerfEntry(time=0.18231599999999998, gflopss=0.0, gpointss=0.0, oi=0.0, ops=0, itershapes=[]))])"
      ]
     },
     "execution_count": 16,
     "metadata": {},
     "output_type": "execute_result"
    }
   ],
   "source": [
    "## from devito import configuration\n",
    "configuration[\"log-level\"] = \"ERROR\"\n",
    "h = .00125\n",
    "op = Operator([u_1,true_eqq_vx,wave_u_vx], subs=({time.spacing: .1*h, x.spacing:h, z.spacing:h}))\n",
    "op.apply(t_m=1, t_M=100)"
   ]
  },
  {
   "cell_type": "code",
   "execution_count": 70,
   "metadata": {},
   "outputs": [],
   "source": [
    "import sympy\n",
    "from sympy import cos, sin, exp, pprint, sqrt, sin, sinc\n",
    "\n",
    "def get_solution_elastic(size, space_order):\n",
    "    clear_cache()\n",
    "    \n",
    "    # Grid\n",
    "    h = 1./(size - 1)\n",
    "    #dt = 1e-7\n",
    "    #nt = 86\n",
    "    # Initial grid: 1km x 1km, with spacing 100m\n",
    "    extent = (2000., 2000.)\n",
    "    shape = (size, size)\n",
    "    x = SpaceDimension(name='x', spacing=Constant(name='h_x', value=extent[0]/(shape[0]-1)))\n",
    "    z = SpaceDimension(name='z', spacing=Constant(name='h_z', value=extent[1]/(shape[1]-1)))\n",
    "    grid = Grid(extent=extent, shape=shape, dimensions=(x, z))\n",
    "    \n",
    "    #x, z = grid.dimensions\n",
    "    t = grid.stepping_dim\n",
    "    time = grid.time_dim\n",
    "    #print(x,z,time)\n",
    "    # Model\n",
    "    # Timestep size from Eq. 7 with V_p=6000. and dx=100\n",
    "    t0, tn = 0., 600.\n",
    "    dt = (10. / np.sqrt(2.)) / 600.\n",
    "\n",
    "    #time_range = TimeAxis(start=t0, stop=tn, step=dt)\n",
    "    #src = RickerSource(name='src', grid=grid, f0=0.01, time_range=time_range)\n",
    "    #src.coordinates.data[:] = [1000., 1000.]\n",
    "    \n",
    "    nt = 101;   # FIX ME\n",
    "    \n",
    "    # Now we create the velocity and pressure fields\n",
    "    so = space_order\n",
    "    \n",
    "    vx  = TimeFunction(name='vx' , grid=grid, staggered = x,    space_order=so, time_order=2, save=nt)\n",
    "    vz  = TimeFunction(name='vz' , grid=grid, staggered = z,    space_order=so, time_order=2, save=nt)\n",
    "    txx = TimeFunction(name='txx', grid=grid, staggered = NODE, space_order=so, time_order=2, save=nt)\n",
    "    tzz = TimeFunction(name='tzz', grid=grid, staggered = NODE, space_order=so, time_order=2, save=nt)\n",
    "    txz = TimeFunction(name='txz', grid=grid, staggered=(x, z), space_order=so, time_order=2, save=nt)\n",
    "\n",
    "    vx_ana  = TimeFunction(name='vx_ana',  grid=grid, staggered=x,      space_order=so, time_order=2, save=nt)\n",
    "    vz_ana  = TimeFunction(name='vz_ana',  grid=grid, staggered=z,      space_order=so, time_order=2, save=nt)\n",
    "    txx_ana = TimeFunction(name='txx_ana', grid=grid, staggered=NODE,   space_order=so, time_order=2, save=nt)\n",
    "    tzz_ana = TimeFunction(name='tzz_ana', grid=grid, staggered=NODE,   space_order=so, time_order=2, save=nt)\n",
    "    txz_ana = TimeFunction(name='txz_ana', grid=grid, staggered=(x, z), space_order=so, time_order=2, save=nt)\n",
    "    \n",
    "    # Wave equation\n",
    "    #u_vx_true  = TimeFunction(name='u_vx_true' , grid=grid, staggered=x,      space_order=so, time_order=0, save=nt)\n",
    "    #u_vz_true  = TimeFunction(name='u_vz_true' , grid=grid, staggered=z,      space_order=so, time_order=0, save=nt)\n",
    "    #u_txx_true = TimeFunction(name='u_txx_true', grid=grid, staggered=NODE,   space_order=so, time_order=0, save=nt)\n",
    "    #u_tzz_true = TimeFunction(name='u_tzz_true', grid=grid, staggered=NODE,   space_order=so, time_order=0, save=nt)\n",
    "    #u_txz_true = TimeFunction(name='u_txz_true', grid=grid, staggered=(x, z), space_order=so, time_order=0, save=nt)\n",
    "    \n",
    "    #vx_src  = TimeFunction(name=\"vx_src\" , grid=grid, staggered=x,     space_order=so, time_order=0, save=nt)\n",
    "    #vz_src  = TimeFunction(name='vz_src' , grid=grid, staggered=z,      space_order=so, time_order=0, save=nt)\n",
    "    #txx_src = TimeFunction(name='txx_src', grid=grid, staggered=NODE,   space_order=so, time_order=0, save=nt)\n",
    "    #tzz_src = TimeFunction(name='tzz_src', grid=grid, staggered=NODE,   space_order=so, time_order=0, save=nt)\n",
    "    #txz_src = TimeFunction(name='txz_src', grid=grid, staggered=(x, z), space_order=so, time_order=0, save=nt)\n",
    "\n",
    "\n",
    "    \n",
    "    ###################input = ###########################################################\n",
    "    u, v, w = sympy.symbols('u v w')\n",
    "    #sol = 1*sin(2*np.pi*u) * sin(4*np.pi*v)* sin(6*np.pi*w)* sin(8*np.pi*u)\n",
    "    sol = (10*sin(6*np.pi*w) * exp(-(u - .5)**2/.015 - (v-.5)**2/.015) -\n",
    "           10*sin(4*np.pi*w) *exp(-(u - .45)**2/.0025 - (v-.65)**2/.0025)-\n",
    "           10*sin(8*np.pi*w) *exp(-(u - .65)**2/.0025 - (v-.45)**2/.0015)+\n",
    "           10*sin(6*np.pi*w) * exp(-(u - .45)**2/.0015 - (v-.45)**2/.0025)-\n",
    "           10*sin(6*np.pi*w) * exp(-(u - .65)**2/.0027 - (v-.65)**2/.0021))\n",
    "    \n",
    "    #sol = (1*sin(6*np.pi*w) * exp(-(u - .5)**2/.015 - (v-.5)**2/.015) -\n",
    "    #    1*sin(4*np.pi*w) *exp(-(u - .45)**2/.0025 - (v-.65)**2/.0025)-\n",
    "    #    5*sin(8*np.pi*w) *exp(-(u - .65)**2/.0025 - (v-.45)**2/.0015)+\n",
    "    #    1*sin(6*np.pi*w) * exp(-(u - .45)**2/.0015 - (v-.45)**2/.0025)-\n",
    "    #    5*sin(6*np.pi*w) * exp(-(u - .65)**2/.0027 - (v-.65)**2/.0021))\n",
    "    \n",
    "    #source_vx  =  sol.diff(vz, vz) - sol.diff(txx, txx) - sol.diff(vx, vx)\n",
    "    #source_vz  =  sol.diff(vx, vx) - sol.diff(vz, vz) - sol.diff(txx, tzz)\n",
    "    #source_txx =  sol.diff(w, w) - sol.diff(u, u) - sol.diff(v, v)\n",
    "    #source_tzz =  sol.diff(w, w) - sol.diff(u, u) - sol.diff(v, v)\n",
    "    #source_txz =  sol.diff(w, w) - sol.diff(u, u) - sol.diff(v, v)\n",
    "    \n",
    "    #x, z = grid.dimensions\n",
    "    #t = grid.time_dim\n",
    "    \n",
    "    #print(sol)\n",
    "    #sol       = sol.subs({u: x*x.spacing, v: z*z.spacing, w: t*t.spacing, c: sqrt(1/model.m)})\n",
    "    #print(sol)\n",
    "    #source_vx = source_vx.subs({u: x*x.spacing, v: z*z.spacing, w: t*t.spacing, c: sqrt(1/model.m)})\n",
    "    #source_vz = source_vz.subs({u: x*x.spacing, v: z*z.spacing, w: t*t.spacing, c: sqrt(1/model.m)})\n",
    "    #################################################################################\n",
    "    \n",
    "    #u, v, w, c = sympy.symbols('u v w c')\n",
    "    #sol = sin(2*np.pi*u) * sin(4*np.pi*v)* sin(2*np.pi*w)\n",
    "\n",
    "    #source =  sol.diff(w, w) - sol.diff(u, u) - sol.diff(v, v)\n",
    "    sol = sol.subs({u: x*x.spacing, v: z*z.spacing, w: time*time.spacing})\n",
    "    #source = source.subs({u: x*x.spacing, v: z*z.spacing, w: time*time.spacing})\n",
    "    \n",
    "    #print(sol)\n",
    "    #print(source)\n",
    "\n",
    "    \n",
    "    # fdelmodc reference implementation\n",
    "    src_vx  = vx_ana.dt - ro * txx_ana.dx - ro * txz_ana.dz\n",
    "    src_vz  = vz_ana.dt - ro * txz_ana.dx + ro * tzz_ana.dz\n",
    "    src_txx = txx_ana.dt - (l+2*mu) * vx_ana.forward.dx -  l* vz_ana.forward.dz\n",
    "    src_tzz = tzz_ana.dt - (l+2*mu) * vz_ana.forward.dz -  l* vx_ana.forward.dx\n",
    "    src_txz = txz_ana.dt - mu*(vx_ana.forward.dz + vz_ana.forward.dx)\n",
    "\n",
    "\n",
    "    wave_u_vx  = Eq(vx.forward,  vx - dt*ro*(txx.dx + txz.dz )+src_vx)\n",
    "    wave_u_vz  = Eq(vz.forward,  vz - dt*ro*(txz.dx + tzz.dz )+ src_vz)\n",
    "    wave_u_txx = Eq(txx.forward, txx - (l+2*mu)*dt * vx.forward.dx -  l*dt * vz.forward.dz + src_txx)\n",
    "    wave_u_tzz = Eq(tzz.forward, tzz - (l+2*mu)*dt * vz.forward.dz -  l*dt * vx.forward.dx + src_tzz)\n",
    "    wave_u_txz = Eq(txz.forward, txz - mu*dt * (vx.forward.dz + vz.forward.dx) + src_txz)\n",
    "    \n",
    "    \n",
    "    \n",
    "    # fdelmodc reference implementation\n",
    "    #wave_u_vx  = Eq(vx_ana.forward, vx_ana - ro*(txx_ana.dx + txz_ana.dz))\n",
    "    #wave_u_vz  = Eq(vz_ana.forward, vz_ana - ro*dt*(txz_ana.dx + tzz_ana.dz))\n",
    "    #wave_u_txx = Eq(txx_ana.forward, txx_ana - (l+2*mu)*dt * vx_ana.forward.dx -  l*dt * vz_ana.forward.dz)\n",
    "    #wave_u_tzz = Eq(tzz_ana.forward, tzz_ana - (l+2*mu)*dt * vz_ana.forward.dz -  l*dt * vx_ana.forward.dx)\n",
    "    #wave_u_txz = Eq(txz_ana.forward, txz_ana - mu*dt * (vx_ana.forward.dz + vz_ana.forward.dx))\n",
    "    \n",
    "    true_eqq_vx = Eq(vx_ana, sol)\n",
    "    true_eqq_vz = Eq(vz_ana, sol)\n",
    "    true_eqq_txx = Eq(txx_ana, sol)\n",
    "    true_eqq_txz = Eq(txz_ana, sol)\n",
    "    true_eqq_tzz = Eq(tzz_ana, sol)\n",
    "    \n",
    "    #src_eq_vx  = Eq(vx_ana.forward, vx_ana.dt - dt*ro * txx_ana.dx -ro *dt* txz_ana.dz) \n",
    "    #src_eq_vz  = Eq(vz_ana.forward, vz_ana.dt - dt*ro * (txz_ana.dx + tzz_ana.dz))\n",
    "    #src_eq_txx = Eq(txx_ana.forward, txx_ana.dt - (l+2*mu)*dt * vx_ana.forward.dx -  l*dt * vz_ana.forward.dz)\n",
    "    #src_eq_txz = Eq(txz_ana.forward, tzz_ana.dt - (l+2*mu)*dt * vz_ana.forward.dz -  l*dt * vx_ana.forward.dx)\n",
    "    #src_eq_tzz = Eq(tzz_ana.forward, tzz_ana.dt - mu*dt * (vx_ana.forward.dz + vz_ana.forward.dx))\n",
    "    \n",
    "    u_1 = Eq(vx_ana.subs(time, 1), sol.subs(time, 1))\n",
    "    u_2 = Eq(vz_ana.subs(time, 1), sol.subs(time, 1))\n",
    "    u_3 = Eq(txx_ana.subs(time, 1), sol.subs(time, 1))\n",
    "    u_4 = Eq(txz_ana.subs(time, 1), sol.subs(time, 1))\n",
    "    u_5 = Eq(tzz_ana.subs(time, 1), sol.subs(time, 1))\n",
    "\n",
    "    configuration[\"log-level\"] = \"ERROR\"\n",
    "    \n",
    "    \n",
    "    #op = Operator([u_1,u_2,u_3,u_4,u_5,true_eqq_vx,true_eqq_vz,true_eqq_txx,true_eqq_txz,true_eqq_tzz,src_eq_vx,wave_u_vx], subs=({time.spacing: .1*h, x.spacing:h, z.spacing:h}))\n",
    "    #op = Operator([u_1,wave_u_vx], subs=({time.spacing: .1*h, x.spacing:h, z.spacing:h}))\n",
    "    #op = Operator([u_1,u_2,u_3,u_4,u_5,true_eqq_vx,true_eqq_vz,true_eqq_txx,true_eqq_txz,true_eqq_tzz, wave_u_vx,wave_u_vz], subs=({time.spacing: .1*h, x.spacing:h, z.spacing:h}))\n",
    "    op = Operator([u_1,true_eqq_vx, wave_u_vx], subs=({time.spacing: .1*h, x.spacing:h, z.spacing:h}))\n",
    "\n",
    "    op.apply()\n",
    "    \n",
    "    # Reset the fields\n",
    "    #vx_ana.data[:] = 0.\n",
    "    #vz_ana.data[:] = 0.\n",
    "    #txx_ana.data[:] = 0.\n",
    "    #tzz_ana.data[:] = 0.\n",
    "    #txz_ana.data[:] = 0.\n",
    "\n",
    "     \n",
    "\n",
    "    error1 = np.linalg.norm(vx.data[(nt-3), :, :].reshape(-1) -\n",
    "                            vx_ana.data[(nt-3), :, :].reshape(-1), 2)*h\n",
    "    error2 = np.linalg.norm(vz.data[(nt-3), :, :].reshape(-1) -\n",
    "                            vz_ana.data[(nt-3), :, :].reshape(-1), 2)*h\n",
    "    error3 = np.linalg.norm(txx.data[(nt-3), :, :].reshape(-1) -\n",
    "                            txx_ana.data[(nt-3), :, :].reshape(-1), 2)*h\n",
    "    error4 = np.linalg.norm(txz.data[(nt-3), :, :].reshape(-1) -\n",
    "                            txz_ana.data[(nt-3), :, :].reshape(-1), 2)*h\n",
    "    error5 = np.linalg.norm(tzz.data[(nt-3), :, :].reshape(-1) -\n",
    "                            tzz_ana.data[(nt-3), :, :].reshape(-1), 2)*h\n",
    "    \n",
    "    #error = (error1 + error2 + error3 + error4 +error5) / 5\n",
    "    error = error1\n",
    "    #print(\"for h = %f and dt= %2.2e ms error1 is %2.4e error2 is %2.4e error3 is %2.4e\" % (h, dt, error1,error2,error3))\n",
    "    print(\"for h = %f and dt= %2.2e ms error is %2.4e\" % (h, dt, error))\n",
    "\n",
    "    \n",
    "    \n",
    "    \n",
    "#  import matplotlib.pyplot as plt\n",
    "#     plt.figure()\n",
    "#     plt.subplot(131)\n",
    "#     plt.imshow(u.data[(nt-3), :, :], vmin=-.1, vmax=.1, cmap=\"seismic\")\n",
    "#     plt.subplot(132)\n",
    "#     plt.imshow(u_true.data[(nt-3), :, :], vmin=-.1, vmax=.1, cmap=\"seismic\")\n",
    "#     plt.subplot(133)\n",
    "#     plt.imshow(u.data[(nt-3), :, :] - u_true.data[(nt-3), :, :], vmin=-.1, vmax=.1, cmap=\"seismic\")\n",
    "#     plt.show()\n",
    "\n",
    "\n",
    "\n",
    "    return error"
   ]
  },
  {
   "cell_type": "markdown",
   "metadata": {},
   "source": [
    "# MMS"
   ]
  },
  {
   "cell_type": "code",
   "execution_count": 71,
   "metadata": {},
   "outputs": [
    {
     "name": "stdout",
     "output_type": "stream",
     "text": [
      "for h = 0.020000 and dt= 1.18e-02 ms error is 5.7904e+02\n",
      "for h = 0.020000 and dt= 1.18e-02 ms error is 5.7904e+02\n",
      "for h = 0.020000 and dt= 1.18e-02 ms error is 5.7904e+02\n",
      "for h = 0.010000 and dt= 1.18e-02 ms error is 1.8732e+03\n",
      "for h = 0.010000 and dt= 1.18e-02 ms error is 1.8732e+03\n",
      "for h = 0.010000 and dt= 1.18e-02 ms error is 1.8732e+03\n",
      "for h = 0.005000 and dt= 1.18e-02 ms error is 3.1004e+03\n",
      "for h = 0.005000 and dt= 1.18e-02 ms error is 3.1004e+03\n",
      "for h = 0.005000 and dt= 1.18e-02 ms error is 3.1004e+03\n"
     ]
    }
   ],
   "source": [
    "size = [51,101,201]\n",
    "\n",
    "t = 2\n",
    "so = [2,6,10]\n",
    "error = np.zeros((len(size), len(so)))\n",
    "hh = [0.04, 0.02, 0.01, 0.005]\n",
    "\n",
    "#hh = [0.04, 0.02, 0.01, 0.005, 0.001]\n",
    "#hh = [1, .5, .25, .125]\n",
    "# hh = [4*h for h in hh]\n",
    "for i, s in enumerate(size):\n",
    "    for j, sso in enumerate(so):\n",
    "        error[i, j] = get_solution_elastic(s, sso)"
   ]
  },
  {
   "cell_type": "code",
   "execution_count": 44,
   "metadata": {},
   "outputs": [
    {
     "data": {
      "image/png": "[encoded data removed]",
      "text/plain": [
       "<Figure size 1080x720 with 1 Axes>"
      ]
     },
     "metadata": {
      "needs_background": "light"
     },
     "output_type": "display_data"
    }
   ],
   "source": [
    "import matplotlib.pyplot as plt\n",
    "col = ['-ob', '-or', '-og', '-ok', '-oc']\n",
    "col_2 = ['--ob', '--or', '--og', '--ok', '--oc']\n",
    "hh = [0.04, 0.02, 0.01, 0.005]\n",
    "#hh = [1, .5, .25, .125]\n",
    "#hh = [4*h for h in hh]\n",
    "plt.figure(figsize=(15, 10))\n",
    "for j, sso in enumerate(so):\n",
    "    plt.loglog(hh[1:3], hh[1]**so[j]*error[1:3, j]/error[1, j], col[j])\n",
    "    plt.loglog(hh[1:3], [h**so[j] for h in hh][1:3], col_2[j])\n",
    "\n",
    "    #plt.loglog(hh[1:3], error[:, 3])\n",
    "    #plt.loglog(hh[1:3], [h**so[3] for h in hh])"
   ]
  },
  {
   "cell_type": "code",
   "execution_count": 45,
   "metadata": {},
   "outputs": [
    {
     "data": {
      "text/plain": [
       "Text(0.5, 0, 'Space order')"
      ]
     },
     "execution_count": 45,
     "metadata": {},
     "output_type": "execute_result"
    },
    {
     "data": {
      "image/png": "[encoded data removed]",
      "text/plain": [
       "<Figure size 720x360 with 2 Axes>"
      ]
     },
     "metadata": {
      "needs_background": "light"
     },
     "output_type": "display_data"
    }
   ],
   "source": [
    "fig = plt.figure(figsize=(10, 5))\n",
    "im = plt.pcolormesh(error)\n",
    "fig.colorbar(im)\n",
    "plt.ylabel('Grid size')\n",
    "plt.ylabel('Grid size')\n",
    "plt.ylabel('Grid size')\n",
    "\n",
    "plt.xlabel('Space order')"
   ]
  },
  {
   "cell_type": "code",
   "execution_count": null,
   "metadata": {},
   "outputs": [],
   "source": []
  },
  {
   "cell_type": "code",
   "execution_count": null,
   "metadata": {},
   "outputs": [],
   "source": []
  }
 ],
 "metadata": {
  "kernelspec": {
   "display_name": "Python 3",
   "language": "python",
   "name": "python3"
  },
  "language_info": {
   "codemirror_mode": {
    "name": "ipython",
    "version": 3
   },
   "file_extension": ".py",
   "mimetype": "text/x-python",
   "name": "python",
   "nbconvert_exporter": "python",
   "pygments_lexer": "ipython3",
   "version": "3.6.7"
  },
  "varInspector": {
   "cols": {
    "lenName": 16,
    "lenType": 16,
    "lenVar": 40
   },
   "kernels_config": {
    "python": {
     "delete_cmd_postfix": "",
     "delete_cmd_prefix": "del ",
     "library": "var_list.py",
     "varRefreshCmd": "print(var_dic_list())"
    },
    "r": {
     "delete_cmd_postfix": ") ",
     "delete_cmd_prefix": "rm(",
     "library": "var_list.r",
     "varRefreshCmd": "cat(var_dic_list()) "
    }
   },
   "types_to_exclude": [
    "module",
    "function",
    "builtin_function_or_method",
    "instance",
    "_Feature"
   ],
   "window_display": false
  },
  "widgets": {
   "state": {},
   "version": "1.1.2"
  }
 },
 "nbformat": 4,
 "nbformat_minor": 1
}
